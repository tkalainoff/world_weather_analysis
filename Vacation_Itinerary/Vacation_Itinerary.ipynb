{
 "cells": [
  {
   "cell_type": "markdown",
   "metadata": {},
   "source": [
    "## Deliverable 3. Create a Travel Itinerary Map."
   ]
  },
  {
   "cell_type": "code",
   "execution_count": 3,
   "metadata": {},
   "outputs": [],
   "source": [
    "# Dependencies and Setup\n",
    "import pandas as pd\n",
    "import requests\n",
    "import gmaps\n",
    "\n",
    "# Import API key\n",
    "from config import g_key\n",
    "\n",
    "# Configure gmaps\n",
    "gmaps.configure(api_key=g_key)"
   ]
  },
  {
   "cell_type": "code",
   "execution_count": 5,
   "metadata": {},
   "outputs": [
    {
     "data": {
      "text/html": [
       "<div>\n",
       "<style scoped>\n",
       "    .dataframe tbody tr th:only-of-type {\n",
       "        vertical-align: middle;\n",
       "    }\n",
       "\n",
       "    .dataframe tbody tr th {\n",
       "        vertical-align: top;\n",
       "    }\n",
       "\n",
       "    .dataframe thead th {\n",
       "        text-align: right;\n",
       "    }\n",
       "</style>\n",
       "<table border=\"1\" class=\"dataframe\">\n",
       "  <thead>\n",
       "    <tr style=\"text-align: right;\">\n",
       "      <th></th>\n",
       "      <th>City_ID</th>\n",
       "      <th>City</th>\n",
       "      <th>Country</th>\n",
       "      <th>Max Temp</th>\n",
       "      <th>Current Description</th>\n",
       "      <th>Lat</th>\n",
       "      <th>Lng</th>\n",
       "      <th>Hotel Name</th>\n",
       "    </tr>\n",
       "  </thead>\n",
       "  <tbody>\n",
       "    <tr>\n",
       "      <th>0</th>\n",
       "      <td>6</td>\n",
       "      <td>Rikitea</td>\n",
       "      <td>PF</td>\n",
       "      <td>78.12</td>\n",
       "      <td>broken clouds</td>\n",
       "      <td>-23.1203</td>\n",
       "      <td>-134.9692</td>\n",
       "      <td>Pension Maro'i</td>\n",
       "    </tr>\n",
       "    <tr>\n",
       "      <th>1</th>\n",
       "      <td>9</td>\n",
       "      <td>Ravar</td>\n",
       "      <td>IR</td>\n",
       "      <td>77.27</td>\n",
       "      <td>broken clouds</td>\n",
       "      <td>31.2656</td>\n",
       "      <td>56.8055</td>\n",
       "      <td>computertik</td>\n",
       "    </tr>\n",
       "    <tr>\n",
       "      <th>2</th>\n",
       "      <td>10</td>\n",
       "      <td>Champerico</td>\n",
       "      <td>GT</td>\n",
       "      <td>80.60</td>\n",
       "      <td>scattered clouds</td>\n",
       "      <td>14.3000</td>\n",
       "      <td>-91.9167</td>\n",
       "      <td>Hotel y restaurante \"El Diamante\"</td>\n",
       "    </tr>\n",
       "    <tr>\n",
       "      <th>3</th>\n",
       "      <td>14</td>\n",
       "      <td>Port Hedland</td>\n",
       "      <td>AU</td>\n",
       "      <td>77.00</td>\n",
       "      <td>scattered clouds</td>\n",
       "      <td>-20.3167</td>\n",
       "      <td>118.5667</td>\n",
       "      <td>The Esplanade Hotel</td>\n",
       "    </tr>\n",
       "    <tr>\n",
       "      <th>4</th>\n",
       "      <td>19</td>\n",
       "      <td>Luanda</td>\n",
       "      <td>AO</td>\n",
       "      <td>84.20</td>\n",
       "      <td>scattered clouds</td>\n",
       "      <td>-8.8368</td>\n",
       "      <td>13.2343</td>\n",
       "      <td>LANDU MARINEZA LUFUANDU TONI</td>\n",
       "    </tr>\n",
       "  </tbody>\n",
       "</table>\n",
       "</div>"
      ],
      "text/plain": [
       "   City_ID          City Country  Max Temp Current Description      Lat  \\\n",
       "0        6       Rikitea      PF     78.12       broken clouds -23.1203   \n",
       "1        9         Ravar      IR     77.27       broken clouds  31.2656   \n",
       "2       10    Champerico      GT     80.60    scattered clouds  14.3000   \n",
       "3       14  Port Hedland      AU     77.00    scattered clouds -20.3167   \n",
       "4       19        Luanda      AO     84.20    scattered clouds  -8.8368   \n",
       "\n",
       "        Lng                         Hotel Name  \n",
       "0 -134.9692                     Pension Maro'i  \n",
       "1   56.8055                        computertik  \n",
       "2  -91.9167  Hotel y restaurante \"El Diamante\"  \n",
       "3  118.5667                The Esplanade Hotel  \n",
       "4   13.2343       LANDU MARINEZA LUFUANDU TONI  "
      ]
     },
     "execution_count": 5,
     "metadata": {},
     "output_type": "execute_result"
    }
   ],
   "source": [
    "# 1. Read the WeatherPy_vacation.csv into a DataFrame.\n",
    "vacation_df = pd.read_csv(\"../Vacation_Search/WeatherPy_vacation.csv\")\n",
    "vacation_df.head()"
   ]
  },
  {
   "cell_type": "code",
   "execution_count": 9,
   "metadata": {},
   "outputs": [],
   "source": [
    "# 2. Using the template add the city name, the country code, the weather description and maximum temperature for the city.\n",
    "info_box_template = \"\"\"\n",
    "<dl>\n",
    "<dt>Hotel Name</dt><dd>{Hotel Name}</dd>\n",
    "<dt>City</dt><dd>{City}</dd>\n",
    "<dt>Country</dt><dd>{Country}</dd>\n",
    "<dt>Current Description</dt><dd>{Current Description}</dd>\n",
    "<dt>Max Temp</dt><dd>{Max Temp} °F</dd>\n",
    "</dl>\n",
    "\"\"\"\n",
    "\n",
    "# 3a. Get the data from each row and add it to the formatting template and store the data in a list.\n",
    "vacation_info = [info_box_template.format(**row) for index, row in vacation_df.iterrows()]\n",
    "\n",
    "# 3b. Get the latitude and longitude from each row and store in a new DataFrame.\n",
    "locations = vacation_df[[\"Lat\", \"Lng\"]]"
   ]
  },
  {
   "cell_type": "code",
   "execution_count": 12,
   "metadata": {},
   "outputs": [
    {
     "data": {
      "application/vnd.jupyter.widget-view+json": {
       "model_id": "3a70c877d515441e92ba1524462121b9",
       "version_major": 2,
       "version_minor": 0
      },
      "text/plain": [
       "Figure(layout=FigureLayout(height='420px'))"
      ]
     },
     "metadata": {},
     "output_type": "display_data"
    }
   ],
   "source": [
    "# 4a. Add a marker layer for each city to the map.\n",
    "locations = vacation_df[[\"Lat\", \"Lng\"]]\n",
    "max_temp = vacation_df[\"Max Temp\"]\n",
    "fig = gmaps.figure(center=(30.0, 31.0), zoom_level=1.5)\n",
    "heat_layer = gmaps.heatmap_layer(locations, weights=max_temp, dissipating=False,\n",
    "             max_intensity=300, point_radius=4)\n",
    "marker_layer = gmaps.marker_layer(locations, info_box_content=vacation_info)\n",
    "fig.add_layer(heat_layer)\n",
    "fig.add_layer(marker_layer)\n",
    "\n",
    "# 4b. Display the figure\n",
    "fig\n"
   ]
  },
  {
   "cell_type": "code",
   "execution_count": 13,
   "metadata": {},
   "outputs": [],
   "source": [
    "# From the map above pick 4 cities and create a vacation itinerary route to travel between the four cities. \n",
    "# 5. Create DataFrames for each city by filtering the 'vacation_df' using the loc method. \n",
    "# Hint: The starting and ending city should be the same city.\n",
    "\n",
    "vacation_start = vacation_df.loc[vacation_df[\"City\"] == \"Arraial Do Cabo\"]\n",
    "vacation_end = vacation_df.loc[vacation_df[\"City\"] == \"Arraial Do Cabo\"]\n",
    "vacation_stop1 = vacation_df.loc[vacation_df[\"City\"] == \"Coxim\"]\n",
    "vacation_stop2 = vacation_df.loc[vacation_df[\"City\"] == \"Jacareacanga\"]\n",
    "vacation_stop3 = vacation_df.loc[vacation_df[\"City\"] == \"Cavalcante\"]"
   ]
  },
  {
   "cell_type": "code",
   "execution_count": 14,
   "metadata": {},
   "outputs": [],
   "source": [
    "# 6. Get the latitude-longitude pairs as tuples from each city DataFrame using the to_numpy function and list indexing.\n",
    "start = vacation_start[\"Lat\"].to_numpy()[0], vacation_start[\"Lng\"].to_numpy()[0]\n",
    "end = vacation_end[\"Lat\"].to_numpy()[0], vacation_end[\"Lng\"].to_numpy()[0]\n",
    "stop1 = vacation_stop1[\"Lat\"].to_numpy()[0], vacation_stop1[\"Lng\"].to_numpy()[0]\n",
    "stop2 = vacation_stop2[\"Lat\"].to_numpy()[0], vacation_stop2[\"Lng\"].to_numpy()[0]\n",
    "stop3 = vacation_stop3[\"Lat\"].to_numpy()[0], vacation_stop3[\"Lng\"].to_numpy()[0] "
   ]
  },
  {
   "cell_type": "code",
   "execution_count": 15,
   "metadata": {},
   "outputs": [
    {
     "data": {
      "text/html": [
       "<div>\n",
       "<style scoped>\n",
       "    .dataframe tbody tr th:only-of-type {\n",
       "        vertical-align: middle;\n",
       "    }\n",
       "\n",
       "    .dataframe tbody tr th {\n",
       "        vertical-align: top;\n",
       "    }\n",
       "\n",
       "    .dataframe thead th {\n",
       "        text-align: right;\n",
       "    }\n",
       "</style>\n",
       "<table border=\"1\" class=\"dataframe\">\n",
       "  <thead>\n",
       "    <tr style=\"text-align: right;\">\n",
       "      <th></th>\n",
       "      <th>City_ID</th>\n",
       "      <th>City</th>\n",
       "      <th>Country</th>\n",
       "      <th>Max Temp</th>\n",
       "      <th>Current Description</th>\n",
       "      <th>Lat</th>\n",
       "      <th>Lng</th>\n",
       "      <th>Hotel Name</th>\n",
       "    </tr>\n",
       "  </thead>\n",
       "  <tbody>\n",
       "    <tr>\n",
       "      <th>27</th>\n",
       "      <td>96</td>\n",
       "      <td>Arraial Do Cabo</td>\n",
       "      <td>BR</td>\n",
       "      <td>80.6</td>\n",
       "      <td>scattered clouds</td>\n",
       "      <td>-22.9661</td>\n",
       "      <td>-42.0278</td>\n",
       "      <td>Pousada Porto Praia</td>\n",
       "    </tr>\n",
       "  </tbody>\n",
       "</table>\n",
       "</div>"
      ],
      "text/plain": [
       "    City_ID             City Country  Max Temp Current Description      Lat  \\\n",
       "27       96  Arraial Do Cabo      BR      80.6    scattered clouds -22.9661   \n",
       "\n",
       "        Lng           Hotel Name  \n",
       "27 -42.0278  Pousada Porto Praia  "
      ]
     },
     "execution_count": 15,
     "metadata": {},
     "output_type": "execute_result"
    }
   ],
   "source": [
    "vacation_start"
   ]
  },
  {
   "cell_type": "code",
   "execution_count": 16,
   "metadata": {
    "scrolled": true
   },
   "outputs": [
    {
     "data": {
      "application/vnd.jupyter.widget-view+json": {
       "model_id": "df85d613c63e40f3affdc470c485190e",
       "version_major": 2,
       "version_minor": 0
      },
      "text/plain": [
       "Figure(layout=FigureLayout(height='420px'))"
      ]
     },
     "metadata": {},
     "output_type": "display_data"
    }
   ],
   "source": [
    "# 7. Create a direction layer map using the start and end latitude-longitude pairs,\n",
    "# and stop1, stop2, and stop3 as the waypoints. The travel_mode should be \"DRIVING\", \"BICYCLING\", or \"WALKING\".\n",
    "fig = gmaps.figure()\n",
    "vacation_itinerary = gmaps.directions_layer(\n",
    "        start, end, waypoints=[stop1, stop2, stop3],\n",
    "        travel_mode='DRIVING')\n",
    "fig.add_layer(vacation_itinerary)\n",
    "fig"
   ]
  },
  {
   "cell_type": "code",
   "execution_count": 18,
   "metadata": {},
   "outputs": [
    {
     "data": {
      "text/html": [
       "<div>\n",
       "<style scoped>\n",
       "    .dataframe tbody tr th:only-of-type {\n",
       "        vertical-align: middle;\n",
       "    }\n",
       "\n",
       "    .dataframe tbody tr th {\n",
       "        vertical-align: top;\n",
       "    }\n",
       "\n",
       "    .dataframe thead th {\n",
       "        text-align: right;\n",
       "    }\n",
       "</style>\n",
       "<table border=\"1\" class=\"dataframe\">\n",
       "  <thead>\n",
       "    <tr style=\"text-align: right;\">\n",
       "      <th></th>\n",
       "      <th>City_ID</th>\n",
       "      <th>City</th>\n",
       "      <th>Country</th>\n",
       "      <th>Max Temp</th>\n",
       "      <th>Current Description</th>\n",
       "      <th>Lat</th>\n",
       "      <th>Lng</th>\n",
       "      <th>Hotel Name</th>\n",
       "    </tr>\n",
       "  </thead>\n",
       "  <tbody>\n",
       "    <tr>\n",
       "      <th>0</th>\n",
       "      <td>96</td>\n",
       "      <td>Arraial Do Cabo</td>\n",
       "      <td>BR</td>\n",
       "      <td>80.60</td>\n",
       "      <td>scattered clouds</td>\n",
       "      <td>-22.9661</td>\n",
       "      <td>-42.0278</td>\n",
       "      <td>Pousada Porto Praia</td>\n",
       "    </tr>\n",
       "    <tr>\n",
       "      <th>1</th>\n",
       "      <td>291</td>\n",
       "      <td>Coxim</td>\n",
       "      <td>BR</td>\n",
       "      <td>77.86</td>\n",
       "      <td>broken clouds</td>\n",
       "      <td>-18.5067</td>\n",
       "      <td>-54.7600</td>\n",
       "      <td>Hotel Avenida</td>\n",
       "    </tr>\n",
       "    <tr>\n",
       "      <th>2</th>\n",
       "      <td>378</td>\n",
       "      <td>Jacareacanga</td>\n",
       "      <td>BR</td>\n",
       "      <td>86.00</td>\n",
       "      <td>clear sky</td>\n",
       "      <td>-6.2222</td>\n",
       "      <td>-57.7528</td>\n",
       "      <td>Casa do Ian😎</td>\n",
       "    </tr>\n",
       "    <tr>\n",
       "      <th>3</th>\n",
       "      <td>308</td>\n",
       "      <td>Cavalcante</td>\n",
       "      <td>BR</td>\n",
       "      <td>83.43</td>\n",
       "      <td>clear sky</td>\n",
       "      <td>-13.7975</td>\n",
       "      <td>-47.4583</td>\n",
       "      <td>Pousada Vila dos Ipês</td>\n",
       "    </tr>\n",
       "  </tbody>\n",
       "</table>\n",
       "</div>"
      ],
      "text/plain": [
       "   City_ID             City Country  Max Temp Current Description      Lat  \\\n",
       "0       96  Arraial Do Cabo      BR     80.60    scattered clouds -22.9661   \n",
       "1      291            Coxim      BR     77.86       broken clouds -18.5067   \n",
       "2      378     Jacareacanga      BR     86.00           clear sky  -6.2222   \n",
       "3      308       Cavalcante      BR     83.43           clear sky -13.7975   \n",
       "\n",
       "       Lng             Hotel Name  \n",
       "0 -42.0278    Pousada Porto Praia  \n",
       "1 -54.7600          Hotel Avenida  \n",
       "2 -57.7528           Casa do Ian😎  \n",
       "3 -47.4583  Pousada Vila dos Ipês  "
      ]
     },
     "execution_count": 18,
     "metadata": {},
     "output_type": "execute_result"
    }
   ],
   "source": [
    "# 8. To create a marker layer map between the four cities.\n",
    "#  Combine the four city DataFrames into one DataFrame using the concat() function.\n",
    "itinerary_df = pd.concat([vacation_start, vacation_stop1, vacation_stop2, vacation_stop3],ignore_index=True)\n",
    "itinerary_df"
   ]
  },
  {
   "cell_type": "code",
   "execution_count": 19,
   "metadata": {},
   "outputs": [],
   "source": [
    "# 9 Using the template add city name, the country code, the weather description and maximum temperature for the city. \n",
    "info_box_template = \"\"\"\n",
    "<dl>\n",
    "<dt>Hotel Name</dt><dd>{Hotel Name}</dd>\n",
    "<dt>City</dt><dd>{City}</dd>\n",
    "<dt>Country</dt><dd>{Country}</dd>\n",
    "<dt>Current Description</dt><dd>{Current Description}</dd>\n",
    "<dt>Max Temp</dt><dd>{Max Temp} °F</dd>\n",
    "</dl>\n",
    "\"\"\"\n",
    "\n",
    "# 10a Get the data from each row and add it to the formatting template and store the data in a list.\n",
    "vacation_info = [info_box_template.format(**row) for index, row in itinerary_df.iterrows()]\n",
    "\n",
    "# 10b. Get the latitude and longitude from each row and store in a new DataFrame.\n",
    "locations = itinerary_df[[\"Lat\", \"Lng\"]]"
   ]
  },
  {
   "cell_type": "code",
   "execution_count": 20,
   "metadata": {},
   "outputs": [
    {
     "data": {
      "application/vnd.jupyter.widget-view+json": {
       "model_id": "0daea1ff42e846968bd6b6e35048c20f",
       "version_major": 2,
       "version_minor": 0
      },
      "text/plain": [
       "Figure(layout=FigureLayout(height='420px'))"
      ]
     },
     "metadata": {},
     "output_type": "display_data"
    }
   ],
   "source": [
    "# 11a. Add a marker layer for each city to the map.\n",
    "locations = itinerary_df[[\"Lat\", \"Lng\"]]\n",
    "max_temp = itinerary_df[\"Max Temp\"]\n",
    "fig = gmaps.figure(center=(30.0, 31.0), zoom_level=1.5)\n",
    "heat_layer = gmaps.heatmap_layer(locations, weights=max_temp,\n",
    "             dissipating=False, max_intensity=300, point_radius=4)\n",
    "marker_layer = gmaps.marker_layer(locations, info_box_content=vacation_info)\n",
    "fig.add_layer(heat_layer)\n",
    "fig.add_layer(marker_layer)\n",
    "\n",
    "# 11b. Display the figure\n",
    "fig"
   ]
  },
  {
   "cell_type": "code",
   "execution_count": null,
   "metadata": {},
   "outputs": [],
   "source": []
  }
 ],
 "metadata": {
  "kernelspec": {
   "display_name": "PythonData",
   "language": "python",
   "name": "pythondata"
  },
  "language_info": {
   "codemirror_mode": {
    "name": "ipython",
    "version": 3
   },
   "file_extension": ".py",
   "mimetype": "text/x-python",
   "name": "python",
   "nbconvert_exporter": "python",
   "pygments_lexer": "ipython3",
   "version": "3.8.5"
  },
  "latex_envs": {
   "LaTeX_envs_menu_present": true,
   "autoclose": false,
   "autocomplete": true,
   "bibliofile": "biblio.bib",
   "cite_by": "apalike",
   "current_citInitial": 1,
   "eqLabelWithNumbers": true,
   "eqNumInitial": 1,
   "hotkeys": {
    "equation": "Ctrl-E",
    "itemize": "Ctrl-I"
   },
   "labels_anchors": false,
   "latex_user_defs": false,
   "report_style_numbering": false,
   "user_envs_cfg": false
  }
 },
 "nbformat": 4,
 "nbformat_minor": 2
}
